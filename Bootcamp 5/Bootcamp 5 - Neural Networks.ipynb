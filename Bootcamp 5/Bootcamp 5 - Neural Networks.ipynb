{
 "cells": [
  {
   "cell_type": "code",
   "execution_count": 1,
   "metadata": {},
   "outputs": [
    {
     "name": "stderr",
     "output_type": "stream",
     "text": [
      "Using TensorFlow backend.\n"
     ]
    }
   ],
   "source": [
    "import pandas as pd\n",
    "import numpy as np\n",
    "\n",
    "import seaborn as sns\n",
    "import matplotlib.pyplot as plt\n",
    "\n",
    "from keras.models import Sequential\n",
    "from keras.layers import Dense, Activation, Dropout\n",
    "from keras.optimizers import SGD\n",
    "from keras.datasets import mnist\n",
    "from keras.utils import to_categorical\n",
    "from keras.losses import categorical_crossentropy\n",
    "from keras import metrics\n",
    "from sklearn.metrics import accuracy_score"
   ]
  },
  {
   "cell_type": "code",
   "execution_count": 2,
   "metadata": {},
   "outputs": [
    {
     "name": "stdout",
     "output_type": "stream",
     "text": [
      "Training images shape: (60000, 28, 28)\n",
      "Training targets shape: (60000,)\n",
      "Targets: [5 0 4 ... 5 6 8]\n"
     ]
    }
   ],
   "source": [
    "(train_images, train_targets), (test_images, test_targets) = mnist.load_data()\n",
    "\n",
    "print('Training images shape: ' + str(train_images.shape))\n",
    "print('Training targets shape: ' + str(train_targets.shape))\n",
    "print('Targets: ' + str(train_targets))"
   ]
  },
  {
   "cell_type": "code",
   "execution_count": 3,
   "metadata": {},
   "outputs": [],
   "source": [
    "# Plot the first 10 digits\n",
    "def digits_plotter(n_digits):\n",
    "\n",
    "    # Temporary hide Seaborn grid lines\n",
    "    with sns.axes_style('white'):\n",
    "        plt.figure(figsize=(12, 6))\n",
    "        for i in range(n_digits):\n",
    "            digit = test_images[i]\n",
    "            fig = plt.subplot(2, 5, i + 1)\n",
    "            plt.imshow(digit, cmap=plt.cm.binary)"
   ]
  },
  {
   "cell_type": "code",
   "execution_count": 4,
   "metadata": {},
   "outputs": [
    {
     "data": {
      "image/png": "[encoded data removed]",
      "text/plain": [
       "<Figure size 864x432 with 10 Axes>"
      ]
     },
     "metadata": {},
     "output_type": "display_data"
    }
   ],
   "source": [
    "digits_plotter(10)"
   ]
  },
  {
   "cell_type": "code",
   "execution_count": 5,
   "metadata": {},
   "outputs": [
    {
     "name": "stdout",
     "output_type": "stream",
     "text": [
      "Encoded targets shape: (60000, 10)\n"
     ]
    },
    {
     "data": {
      "text/html": [
       "<div>\n",
       "<style scoped>\n",
       "    .dataframe tbody tr th:only-of-type {\n",
       "        vertical-align: middle;\n",
       "    }\n",
       "\n",
       "    .dataframe tbody tr th {\n",
       "        vertical-align: top;\n",
       "    }\n",
       "\n",
       "    .dataframe thead th {\n",
       "        text-align: right;\n",
       "    }\n",
       "</style>\n",
       "<table border=\"1\" class=\"dataframe\">\n",
       "  <thead>\n",
       "    <tr style=\"text-align: right;\">\n",
       "      <th></th>\n",
       "      <th>0</th>\n",
       "      <th>1</th>\n",
       "      <th>2</th>\n",
       "      <th>3</th>\n",
       "      <th>4</th>\n",
       "      <th>5</th>\n",
       "      <th>6</th>\n",
       "      <th>7</th>\n",
       "      <th>8</th>\n",
       "      <th>9</th>\n",
       "    </tr>\n",
       "  </thead>\n",
       "  <tbody>\n",
       "    <tr>\n",
       "      <th>31300</th>\n",
       "      <td>0</td>\n",
       "      <td>0</td>\n",
       "      <td>0</td>\n",
       "      <td>0</td>\n",
       "      <td>0</td>\n",
       "      <td>0</td>\n",
       "      <td>0</td>\n",
       "      <td>1</td>\n",
       "      <td>0</td>\n",
       "      <td>0</td>\n",
       "    </tr>\n",
       "    <tr>\n",
       "      <th>40273</th>\n",
       "      <td>0</td>\n",
       "      <td>1</td>\n",
       "      <td>0</td>\n",
       "      <td>0</td>\n",
       "      <td>0</td>\n",
       "      <td>0</td>\n",
       "      <td>0</td>\n",
       "      <td>0</td>\n",
       "      <td>0</td>\n",
       "      <td>0</td>\n",
       "    </tr>\n",
       "    <tr>\n",
       "      <th>14891</th>\n",
       "      <td>0</td>\n",
       "      <td>0</td>\n",
       "      <td>0</td>\n",
       "      <td>0</td>\n",
       "      <td>0</td>\n",
       "      <td>0</td>\n",
       "      <td>0</td>\n",
       "      <td>1</td>\n",
       "      <td>0</td>\n",
       "      <td>0</td>\n",
       "    </tr>\n",
       "    <tr>\n",
       "      <th>16743</th>\n",
       "      <td>0</td>\n",
       "      <td>0</td>\n",
       "      <td>0</td>\n",
       "      <td>1</td>\n",
       "      <td>0</td>\n",
       "      <td>0</td>\n",
       "      <td>0</td>\n",
       "      <td>0</td>\n",
       "      <td>0</td>\n",
       "      <td>0</td>\n",
       "    </tr>\n",
       "    <tr>\n",
       "      <th>36919</th>\n",
       "      <td>1</td>\n",
       "      <td>0</td>\n",
       "      <td>0</td>\n",
       "      <td>0</td>\n",
       "      <td>0</td>\n",
       "      <td>0</td>\n",
       "      <td>0</td>\n",
       "      <td>0</td>\n",
       "      <td>0</td>\n",
       "      <td>0</td>\n",
       "    </tr>\n",
       "    <tr>\n",
       "      <th>44075</th>\n",
       "      <td>0</td>\n",
       "      <td>0</td>\n",
       "      <td>0</td>\n",
       "      <td>0</td>\n",
       "      <td>0</td>\n",
       "      <td>0</td>\n",
       "      <td>0</td>\n",
       "      <td>0</td>\n",
       "      <td>0</td>\n",
       "      <td>1</td>\n",
       "    </tr>\n",
       "    <tr>\n",
       "      <th>37941</th>\n",
       "      <td>0</td>\n",
       "      <td>0</td>\n",
       "      <td>1</td>\n",
       "      <td>0</td>\n",
       "      <td>0</td>\n",
       "      <td>0</td>\n",
       "      <td>0</td>\n",
       "      <td>0</td>\n",
       "      <td>0</td>\n",
       "      <td>0</td>\n",
       "    </tr>\n",
       "    <tr>\n",
       "      <th>39268</th>\n",
       "      <td>0</td>\n",
       "      <td>1</td>\n",
       "      <td>0</td>\n",
       "      <td>0</td>\n",
       "      <td>0</td>\n",
       "      <td>0</td>\n",
       "      <td>0</td>\n",
       "      <td>0</td>\n",
       "      <td>0</td>\n",
       "      <td>0</td>\n",
       "    </tr>\n",
       "    <tr>\n",
       "      <th>21430</th>\n",
       "      <td>0</td>\n",
       "      <td>0</td>\n",
       "      <td>0</td>\n",
       "      <td>0</td>\n",
       "      <td>1</td>\n",
       "      <td>0</td>\n",
       "      <td>0</td>\n",
       "      <td>0</td>\n",
       "      <td>0</td>\n",
       "      <td>0</td>\n",
       "    </tr>\n",
       "    <tr>\n",
       "      <th>12161</th>\n",
       "      <td>0</td>\n",
       "      <td>0</td>\n",
       "      <td>1</td>\n",
       "      <td>0</td>\n",
       "      <td>0</td>\n",
       "      <td>0</td>\n",
       "      <td>0</td>\n",
       "      <td>0</td>\n",
       "      <td>0</td>\n",
       "      <td>0</td>\n",
       "    </tr>\n",
       "  </tbody>\n",
       "</table>\n",
       "</div>"
      ],
      "text/plain": [
       "       0  1  2  3  4  5  6  7  8  9\n",
       "31300  0  0  0  0  0  0  0  1  0  0\n",
       "40273  0  1  0  0  0  0  0  0  0  0\n",
       "14891  0  0  0  0  0  0  0  1  0  0\n",
       "16743  0  0  0  1  0  0  0  0  0  0\n",
       "36919  1  0  0  0  0  0  0  0  0  0\n",
       "44075  0  0  0  0  0  0  0  0  0  1\n",
       "37941  0  0  1  0  0  0  0  0  0  0\n",
       "39268  0  1  0  0  0  0  0  0  0  0\n",
       "21430  0  0  0  0  1  0  0  0  0  0\n",
       "12161  0  0  1  0  0  0  0  0  0  0"
      ]
     },
     "execution_count": 5,
     "metadata": {},
     "output_type": "execute_result"
    }
   ],
   "source": [
    "# Reshape images data into a (number of samples, 28x28) matrix\n",
    "x_train = train_images.reshape((60000, 28 * 28))\n",
    "x_test = test_images.reshape((10000, 28 * 28))\n",
    "\n",
    "# Change pixel values from (0, 255) to (0, 1)\n",
    "x_train = x_train.astype('float32') / 255\n",
    "x_test = x_test.astype('float32') / 255\n",
    "\n",
    "# One-hot encoding of expected results\n",
    "y_train = to_categorical(train_targets).astype('int')\n",
    "y_test = to_categorical(test_targets).astype('int')\n",
    "\n",
    "print('Encoded targets shape: ' + str(y_train.shape))\n",
    "\n",
    "# Show a sample of encoded input\n",
    "df = pd.DataFrame(y_train)\n",
    "df.sample(n=10)"
   ]
  },
  {
   "cell_type": "code",
   "execution_count": 6,
   "metadata": {
    "scrolled": true
   },
   "outputs": [
    {
     "name": "stdout",
     "output_type": "stream",
     "text": [
      "_________________________________________________________________\n",
      "Layer (type)                 Output Shape              Param #   \n",
      "=================================================================\n",
      "dense_1 (Dense)              (None, 512)               401920    \n",
      "_________________________________________________________________\n",
      "dense_2 (Dense)              (None, 256)               131328    \n",
      "_________________________________________________________________\n",
      "dropout_1 (Dropout)          (None, 256)               0         \n",
      "_________________________________________________________________\n",
      "dense_3 (Dense)              (None, 10)                2570      \n",
      "=================================================================\n",
      "Total params: 535,818\n",
      "Trainable params: 535,818\n",
      "Non-trainable params: 0\n",
      "_________________________________________________________________\n"
     ]
    }
   ],
   "source": [
    "# Create a (784, 512, 256, 10) model\n",
    "model = Sequential()\n",
    "model.add(Dense(512, activation='relu', input_shape=(28 * 28,)))\n",
    "model.add(Dense(256, activation = 'relu'))\n",
    "model.add(Dropout(0.1))\n",
    "model.add(Dense(10, activation = 'softmax')) \n",
    "# If the last line above doesn't work, try the following\n",
    "#model.add(Dense(10))\n",
    "#model.add(Activation(tf.nn.softmax))\n",
    "\n",
    "# Describe the model\n",
    "model.summary()"
   ]
  },
  {
   "cell_type": "code",
   "execution_count": 7,
   "metadata": {
    "scrolled": true
   },
   "outputs": [],
   "source": [
    "model.compile(loss = categorical_crossentropy, \n",
    "              optimizer = 'adam',\n",
    "              metrics = [metrics.categorical_accuracy])\n",
    "\n",
    "# If the compilation doesn't work, try \n",
    "# import keras.backend as K\n",
    "# def get_categorical_accuracy_keras(y_true, y_pred):\n",
    "#    return K.mean(K.equal(K.argmax(y_true, axis=1), K.argmax(y_pred, axis=1)))\n",
    "\n",
    "# model.compile(loss=categorical_crossentropy, \n",
    "#               optimizer='adam', \n",
    "#               metrics=[get_categorical_accuracy_keras])"
   ]
  },
  {
   "cell_type": "code",
   "execution_count": 8,
   "metadata": {},
   "outputs": [
    {
     "name": "stdout",
     "output_type": "stream",
     "text": [
      "Train on 54000 samples, validate on 6000 samples\n",
      "Epoch 1/20\n",
      "54000/54000 [==============================] - 5s 84us/step - loss: 0.3958 - categorical_accuracy: 0.8883 - val_loss: 0.1471 - val_categorical_accuracy: 0.9588\n",
      "Epoch 2/20\n",
      "54000/54000 [==============================] - 4s 77us/step - loss: 0.1425 - categorical_accuracy: 0.9589 - val_loss: 0.0931 - val_categorical_accuracy: 0.9723\n",
      "Epoch 3/20\n",
      "54000/54000 [==============================] - 4s 72us/step - loss: 0.0916 - categorical_accuracy: 0.9729 - val_loss: 0.0806 - val_categorical_accuracy: 0.9765\n",
      "Epoch 4/20\n",
      "54000/54000 [==============================] - 4s 73us/step - loss: 0.0646 - categorical_accuracy: 0.9807 - val_loss: 0.0700 - val_categorical_accuracy: 0.9785\n",
      "Epoch 5/20\n",
      "54000/54000 [==============================] - 4s 66us/step - loss: 0.0460 - categorical_accuracy: 0.9863 - val_loss: 0.0667 - val_categorical_accuracy: 0.9803\n",
      "Epoch 6/20\n",
      "54000/54000 [==============================] - 4s 65us/step - loss: 0.0358 - categorical_accuracy: 0.9896 - val_loss: 0.0631 - val_categorical_accuracy: 0.9822\n",
      "Epoch 7/20\n",
      "54000/54000 [==============================] - 4s 69us/step - loss: 0.0278 - categorical_accuracy: 0.9919 - val_loss: 0.0675 - val_categorical_accuracy: 0.9803\n",
      "Epoch 8/20\n",
      "54000/54000 [==============================] - 4s 74us/step - loss: 0.0199 - categorical_accuracy: 0.9946 - val_loss: 0.0658 - val_categorical_accuracy: 0.9817\n",
      "Epoch 9/20\n",
      "54000/54000 [==============================] - 4s 70us/step - loss: 0.0160 - categorical_accuracy: 0.9956 - val_loss: 0.0577 - val_categorical_accuracy: 0.9843\n",
      "Epoch 10/20\n",
      "54000/54000 [==============================] - 3s 60us/step - loss: 0.0121 - categorical_accuracy: 0.9967 - val_loss: 0.0663 - val_categorical_accuracy: 0.9832\n",
      "Epoch 11/20\n",
      "54000/54000 [==============================] - 3s 60us/step - loss: 0.0101 - categorical_accuracy: 0.9974 - val_loss: 0.0681 - val_categorical_accuracy: 0.9815\n",
      "Epoch 12/20\n",
      "54000/54000 [==============================] - 4s 69us/step - loss: 0.0095 - categorical_accuracy: 0.9972 - val_loss: 0.0725 - val_categorical_accuracy: 0.9810\n",
      "Epoch 13/20\n",
      "54000/54000 [==============================] - 4s 68us/step - loss: 0.0063 - categorical_accuracy: 0.9984 - val_loss: 0.0662 - val_categorical_accuracy: 0.9832\n",
      "Epoch 14/20\n",
      "54000/54000 [==============================] - 4s 74us/step - loss: 0.0047 - categorical_accuracy: 0.9990 - val_loss: 0.0686 - val_categorical_accuracy: 0.9842\n",
      "Epoch 15/20\n",
      "54000/54000 [==============================] - 4s 78us/step - loss: 0.0049 - categorical_accuracy: 0.9988 - val_loss: 0.0678 - val_categorical_accuracy: 0.9850\n",
      "Epoch 16/20\n",
      "54000/54000 [==============================] - 3s 63us/step - loss: 0.0040 - categorical_accuracy: 0.9991 - val_loss: 0.0691 - val_categorical_accuracy: 0.9840\n",
      "Epoch 17/20\n",
      "54000/54000 [==============================] - 3s 59us/step - loss: 0.0028 - categorical_accuracy: 0.9993 - val_loss: 0.0743 - val_categorical_accuracy: 0.9838\n",
      "Epoch 18/20\n",
      "54000/54000 [==============================] - 4s 70us/step - loss: 0.0034 - categorical_accuracy: 0.9992 - val_loss: 0.0769 - val_categorical_accuracy: 0.9830\n",
      "Epoch 19/20\n",
      "54000/54000 [==============================] - 4s 70us/step - loss: 0.0071 - categorical_accuracy: 0.9979 - val_loss: 0.0748 - val_categorical_accuracy: 0.9832\n",
      "Epoch 20/20\n",
      "54000/54000 [==============================] - 4s 76us/step - loss: 0.0078 - categorical_accuracy: 0.9976 - val_loss: 0.0757 - val_categorical_accuracy: 0.9828\n"
     ]
    }
   ],
   "source": [
    "history = model.fit(x_train,\n",
    "                    y_train,\n",
    "                    validation_split = 0.1,\n",
    "                    epochs = 20, \n",
    "                    batch_size = 512)"
   ]
  },
  {
   "cell_type": "code",
   "execution_count": 9,
   "metadata": {},
   "outputs": [
    {
     "data": {
      "text/plain": [
       "{'val_loss': [0.14709102543195088,\n",
       "  0.09306045150756836,\n",
       "  0.08061825533707936,\n",
       "  0.06999632708231608,\n",
       "  0.0667463579972585,\n",
       "  0.06306697960694631,\n",
       "  0.06751054028669994,\n",
       "  0.06579413795471191,\n",
       "  0.05774284374713898,\n",
       "  0.06634528728326161,\n",
       "  0.06814464314778645,\n",
       "  0.07254594516754151,\n",
       "  0.06617093225320181,\n",
       "  0.06863689323266348,\n",
       "  0.06783214763800303,\n",
       "  0.0691134182214737,\n",
       "  0.0742843500773112,\n",
       "  0.07685688789685567,\n",
       "  0.07475417892138163,\n",
       "  0.07565996090571085],\n",
       " 'val_categorical_accuracy': [0.9588333338101704,\n",
       "  0.9723333338101705,\n",
       "  0.9765000004768372,\n",
       "  0.9784999987284343,\n",
       "  0.9803333330154419,\n",
       "  0.9821666661898295,\n",
       "  0.9803333338101705,\n",
       "  0.9816666652361552,\n",
       "  0.9843333328564962,\n",
       "  0.9831666661898295,\n",
       "  0.9815000004768372,\n",
       "  0.9809999996821086,\n",
       "  0.9831666671435039,\n",
       "  0.9841666661898295,\n",
       "  0.9850000012715657,\n",
       "  0.9839999985694885,\n",
       "  0.9838333346048991,\n",
       "  0.9829999995231629,\n",
       "  0.9831666661898295,\n",
       "  0.9828333328564962],\n",
       " 'loss': [0.39578499798421507,\n",
       "  0.14249198864565954,\n",
       "  0.09163142890841873,\n",
       "  0.06455677176404882,\n",
       "  0.04597616540061103,\n",
       "  0.03580548966317265,\n",
       "  0.027816917706970815,\n",
       "  0.019869035327876056,\n",
       "  0.015997935330150304,\n",
       "  0.012081779081512381,\n",
       "  0.010139133913649453,\n",
       "  0.009475599254722949,\n",
       "  0.006262996274701975,\n",
       "  0.00471807022475534,\n",
       "  0.004879486102058931,\n",
       "  0.003988053939960621,\n",
       "  0.0028380434966680627,\n",
       "  0.0033532642116425215,\n",
       "  0.007105035782136299,\n",
       "  0.007773900024661863],\n",
       " 'categorical_accuracy': [0.8882592592592593,\n",
       "  0.9588888888005858,\n",
       "  0.9728518519578156,\n",
       "  0.9807222223281861,\n",
       "  0.9862777777954385,\n",
       "  0.9895555556085375,\n",
       "  0.9919444444444444,\n",
       "  0.9945925926279139,\n",
       "  0.9956481481658088,\n",
       "  0.9966666666666667,\n",
       "  0.9973888888888889,\n",
       "  0.9972222222575435,\n",
       "  0.9984259259259259,\n",
       "  0.9989629629806236,\n",
       "  0.9987962962962963,\n",
       "  0.9990925925925926,\n",
       "  0.9992777777777778,\n",
       "  0.9992407407407408,\n",
       "  0.9978703703880311,\n",
       "  0.9975925925925926]}"
      ]
     },
     "execution_count": 9,
     "metadata": {},
     "output_type": "execute_result"
    }
   ],
   "source": [
    "history.history"
   ]
  },
  {
   "cell_type": "code",
   "execution_count": 10,
   "metadata": {},
   "outputs": [
    {
     "data": {
      "image/png": "[encoded data removed]",
      "text/plain": [
       "<Figure size 432x288 with 1 Axes>"
      ]
     },
     "metadata": {
      "needs_background": "light"
     },
     "output_type": "display_data"
    }
   ],
   "source": [
    "# Plot Loss\n",
    "plt.plot(history.history['loss'])\n",
    "plt.title('model training loss')\n",
    "plt.ylabel('loss')\n",
    "plt.xlabel('epoch')\n",
    "plt.show()"
   ]
  },
  {
   "cell_type": "code",
   "execution_count": 11,
   "metadata": {},
   "outputs": [
    {
     "data": {
      "image/png": "[encoded data removed]",
      "text/plain": [
       "<Figure size 432x288 with 1 Axes>"
      ]
     },
     "metadata": {
      "needs_background": "light"
     },
     "output_type": "display_data"
    }
   ],
   "source": [
    "# Plot Loss\n",
    "plt.plot(history.history['categorical_accuracy'])\n",
    "plt.title('model training accuracy')\n",
    "plt.ylabel('accuracy')\n",
    "plt.xlabel('epoch')\n",
    "plt.show()"
   ]
  },
  {
   "cell_type": "code",
   "execution_count": 12,
   "metadata": {},
   "outputs": [],
   "source": [
    "y_pred = model.predict(x_test)"
   ]
  },
  {
   "cell_type": "code",
   "execution_count": 13,
   "metadata": {},
   "outputs": [],
   "source": [
    "predictions = np.argmax(y_pred, axis=1)\n",
    "y_pred = to_categorical(predictions)"
   ]
  },
  {
   "cell_type": "code",
   "execution_count": 14,
   "metadata": {},
   "outputs": [
    {
     "name": "stdout",
     "output_type": "stream",
     "text": [
      "Accuracy = 0.982\n"
     ]
    }
   ],
   "source": [
    "print('Accuracy = %.3f' % accuracy_score(y_pred, y_test))"
   ]
  }
 ],
 "metadata": {
  "kernelspec": {
   "display_name": "Python 3",
   "language": "python",
   "name": "python3"
  },
  "language_info": {
   "codemirror_mode": {
    "name": "ipython",
    "version": 3
   },
   "file_extension": ".py",
   "mimetype": "text/x-python",
   "name": "python",
   "nbconvert_exporter": "python",
   "pygments_lexer": "ipython3",
   "version": "3.7.0"
  }
 },
 "nbformat": 4,
 "nbformat_minor": 2
}
