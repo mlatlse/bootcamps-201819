{
 "cells": [
  {
   "cell_type": "code",
   "execution_count": null,
   "metadata": {},
   "outputs": [
    {
     "name": "stdout",
     "output_type": "stream",
     "text": [
      "Solving environment: done\n",
      "\n",
      "## Package Plan ##\n",
      "\n",
      "  environment location: /anaconda3\n",
      "\n",
      "  added / updated specs: \n",
      "    - tensorflow\n",
      "\n",
      "\n",
      "The following packages will be downloaded:\n",
      "\n",
      "    package                    |            build\n",
      "    ---------------------------|-----------------\n",
      "    tensorboard-1.12.0         |   py36hdc36e2c_0         6.0 MB\n",
      "    _tflow_select-2.3.0        |              mkl           3 KB\n",
      "    keras-applications-1.0.6   |           py36_0          49 KB\n",
      "    tensorflow-base-1.12.0     |mkl_py36h70e0e9a_0        85.6 MB\n",
      "    keras-preprocessing-1.0.5  |           py36_0          52 KB\n",
      "    keras-2.2.4                |                0           5 KB\n",
      "    keras-base-2.2.4           |           py36_0         457 KB\n",
      "    tensorflow-1.12.0          |mkl_py36h2b2bbaf_0           4 KB\n",
      "    ------------------------------------------------------------\n",
      "                                           Total:        92.1 MB\n",
      "\n",
      "The following NEW packages will be INSTALLED:\n",
      "\n",
      "    _tflow_select:       2.3.0-mkl                            \n",
      "    keras-base:          2.2.4-py36_0                         \n",
      "    tensorflow-base:     1.12.0-mkl_py36h70e0e9a_0            \n",
      "\n",
      "The following packages will be UPDATED:\n",
      "\n",
      "    keras:               2.2.4-py36_0              conda-forge --> 2.2.4-0                  \n",
      "    keras-applications:  1.0.4-py_1                conda-forge --> 1.0.6-py36_0             \n",
      "    keras-preprocessing: 1.0.2-py_1                conda-forge --> 1.0.5-py36_0             \n",
      "    tensorboard:         1.10.0-py36_0             conda-forge --> 1.12.0-py36hdc36e2c_0    \n",
      "    tensorflow:          1.10.0-py36_0             conda-forge --> 1.12.0-mkl_py36h2b2bbaf_0\n",
      "\n",
      "Proceed ([y]/n)? "
     ]
    }
   ],
   "source": [
    "!conda install tensorflow"
   ]
  },
  {
   "cell_type": "code",
   "execution_count": null,
   "metadata": {},
   "outputs": [],
   "source": [
    "import keras\n",
    "!conda install keras"
   ]
  },
  {
   "cell_type": "code",
   "execution_count": 1,
   "metadata": {},
   "outputs": [
    {
     "name": "stderr",
     "output_type": "stream",
     "text": [
      "Using TensorFlow backend.\n"
     ]
    }
   ],
   "source": [
    "import pandas as pd\n",
    "import numpy as np\n",
    "\n",
    "import seaborn as sns\n",
    "import matplotlib.pyplot as plt\n",
    "\n",
    "from keras.models import Sequential\n",
    "from keras.layers import Dense, Activation, Dropout\n",
    "from keras.optimizers import SGD\n",
    "from keras.datasets import mnist\n",
    "from keras.utils import to_categorical\n",
    "from keras.losses import categorical_crossentropy\n",
    "from keras import metrics\n",
    "from sklearn.metrics import accuracy_score"
   ]
  },
  {
   "cell_type": "code",
   "execution_count": 2,
   "metadata": {},
   "outputs": [
    {
     "name": "stdout",
     "output_type": "stream",
     "text": [
      "Training images shape: (60000, 28, 28)\n",
      "Training targets shape: (60000,)\n",
      "Targets: [5 0 4 ... 5 6 8]\n"
     ]
    }
   ],
   "source": [
    "(train_images, train_targets), (test_images, test_targets) = mnist.load_data()\n",
    "\n",
    "print('Training images shape: ' + str(train_images.shape))\n",
    "print('Training targets shape: ' + str(train_targets.shape))\n",
    "print('Targets: ' + str(train_targets))"
   ]
  },
  {
   "cell_type": "code",
   "execution_count": 3,
   "metadata": {},
   "outputs": [],
   "source": [
    "# Plot the first 10 digits\n",
    "def digits_plotter(n_digits):\n",
    "\n",
    "    # Temporary hide Seaborn grid lines\n",
    "    with sns.axes_style('white'):\n",
    "        plt.figure(figsize=(12, 6))\n",
    "        for i in range(n_digits):\n",
    "            digit = test_images[i]\n",
    "            fig = plt.subplot(2, 5, i + 1)\n",
    "            plt.imshow(digit, cmap=plt.cm.binary)"
   ]
  },
  {
   "cell_type": "code",
   "execution_count": 4,
   "metadata": {},
   "outputs": [
    {
     "data": {
      "image/png": "[encoded data removed]",
      "text/plain": [
       "<Figure size 864x432 with 10 Axes>"
      ]
     },
     "metadata": {},
     "output_type": "display_data"
    }
   ],
   "source": [
    "digits_plotter(10)"
   ]
  },
  {
   "cell_type": "code",
   "execution_count": 5,
   "metadata": {},
   "outputs": [
    {
     "name": "stdout",
     "output_type": "stream",
     "text": [
      "Encoded targets shape: (60000, 10)\n"
     ]
    },
    {
     "data": {
      "text/html": [
       "<div>\n",
       "<style scoped>\n",
       "    .dataframe tbody tr th:only-of-type {\n",
       "        vertical-align: middle;\n",
       "    }\n",
       "\n",
       "    .dataframe tbody tr th {\n",
       "        vertical-align: top;\n",
       "    }\n",
       "\n",
       "    .dataframe thead th {\n",
       "        text-align: right;\n",
       "    }\n",
       "</style>\n",
       "<table border=\"1\" class=\"dataframe\">\n",
       "  <thead>\n",
       "    <tr style=\"text-align: right;\">\n",
       "      <th></th>\n",
       "      <th>0</th>\n",
       "      <th>1</th>\n",
       "      <th>2</th>\n",
       "      <th>3</th>\n",
       "      <th>4</th>\n",
       "      <th>5</th>\n",
       "      <th>6</th>\n",
       "      <th>7</th>\n",
       "      <th>8</th>\n",
       "      <th>9</th>\n",
       "    </tr>\n",
       "  </thead>\n",
       "  <tbody>\n",
       "    <tr>\n",
       "      <th>28529</th>\n",
       "      <td>0</td>\n",
       "      <td>0</td>\n",
       "      <td>0</td>\n",
       "      <td>0</td>\n",
       "      <td>0</td>\n",
       "      <td>0</td>\n",
       "      <td>0</td>\n",
       "      <td>1</td>\n",
       "      <td>0</td>\n",
       "      <td>0</td>\n",
       "    </tr>\n",
       "    <tr>\n",
       "      <th>34210</th>\n",
       "      <td>0</td>\n",
       "      <td>0</td>\n",
       "      <td>0</td>\n",
       "      <td>0</td>\n",
       "      <td>1</td>\n",
       "      <td>0</td>\n",
       "      <td>0</td>\n",
       "      <td>0</td>\n",
       "      <td>0</td>\n",
       "      <td>0</td>\n",
       "    </tr>\n",
       "    <tr>\n",
       "      <th>31941</th>\n",
       "      <td>0</td>\n",
       "      <td>0</td>\n",
       "      <td>0</td>\n",
       "      <td>0</td>\n",
       "      <td>1</td>\n",
       "      <td>0</td>\n",
       "      <td>0</td>\n",
       "      <td>0</td>\n",
       "      <td>0</td>\n",
       "      <td>0</td>\n",
       "    </tr>\n",
       "    <tr>\n",
       "      <th>15984</th>\n",
       "      <td>0</td>\n",
       "      <td>0</td>\n",
       "      <td>0</td>\n",
       "      <td>0</td>\n",
       "      <td>0</td>\n",
       "      <td>1</td>\n",
       "      <td>0</td>\n",
       "      <td>0</td>\n",
       "      <td>0</td>\n",
       "      <td>0</td>\n",
       "    </tr>\n",
       "    <tr>\n",
       "      <th>39526</th>\n",
       "      <td>0</td>\n",
       "      <td>0</td>\n",
       "      <td>0</td>\n",
       "      <td>0</td>\n",
       "      <td>0</td>\n",
       "      <td>1</td>\n",
       "      <td>0</td>\n",
       "      <td>0</td>\n",
       "      <td>0</td>\n",
       "      <td>0</td>\n",
       "    </tr>\n",
       "    <tr>\n",
       "      <th>21106</th>\n",
       "      <td>0</td>\n",
       "      <td>0</td>\n",
       "      <td>0</td>\n",
       "      <td>0</td>\n",
       "      <td>0</td>\n",
       "      <td>0</td>\n",
       "      <td>0</td>\n",
       "      <td>0</td>\n",
       "      <td>1</td>\n",
       "      <td>0</td>\n",
       "    </tr>\n",
       "    <tr>\n",
       "      <th>29893</th>\n",
       "      <td>0</td>\n",
       "      <td>0</td>\n",
       "      <td>1</td>\n",
       "      <td>0</td>\n",
       "      <td>0</td>\n",
       "      <td>0</td>\n",
       "      <td>0</td>\n",
       "      <td>0</td>\n",
       "      <td>0</td>\n",
       "      <td>0</td>\n",
       "    </tr>\n",
       "    <tr>\n",
       "      <th>30533</th>\n",
       "      <td>0</td>\n",
       "      <td>0</td>\n",
       "      <td>1</td>\n",
       "      <td>0</td>\n",
       "      <td>0</td>\n",
       "      <td>0</td>\n",
       "      <td>0</td>\n",
       "      <td>0</td>\n",
       "      <td>0</td>\n",
       "      <td>0</td>\n",
       "    </tr>\n",
       "    <tr>\n",
       "      <th>38412</th>\n",
       "      <td>1</td>\n",
       "      <td>0</td>\n",
       "      <td>0</td>\n",
       "      <td>0</td>\n",
       "      <td>0</td>\n",
       "      <td>0</td>\n",
       "      <td>0</td>\n",
       "      <td>0</td>\n",
       "      <td>0</td>\n",
       "      <td>0</td>\n",
       "    </tr>\n",
       "    <tr>\n",
       "      <th>48570</th>\n",
       "      <td>0</td>\n",
       "      <td>0</td>\n",
       "      <td>0</td>\n",
       "      <td>0</td>\n",
       "      <td>0</td>\n",
       "      <td>0</td>\n",
       "      <td>1</td>\n",
       "      <td>0</td>\n",
       "      <td>0</td>\n",
       "      <td>0</td>\n",
       "    </tr>\n",
       "  </tbody>\n",
       "</table>\n",
       "</div>"
      ],
      "text/plain": [
       "       0  1  2  3  4  5  6  7  8  9\n",
       "28529  0  0  0  0  0  0  0  1  0  0\n",
       "34210  0  0  0  0  1  0  0  0  0  0\n",
       "31941  0  0  0  0  1  0  0  0  0  0\n",
       "15984  0  0  0  0  0  1  0  0  0  0\n",
       "39526  0  0  0  0  0  1  0  0  0  0\n",
       "21106  0  0  0  0  0  0  0  0  1  0\n",
       "29893  0  0  1  0  0  0  0  0  0  0\n",
       "30533  0  0  1  0  0  0  0  0  0  0\n",
       "38412  1  0  0  0  0  0  0  0  0  0\n",
       "48570  0  0  0  0  0  0  1  0  0  0"
      ]
     },
     "execution_count": 5,
     "metadata": {},
     "output_type": "execute_result"
    }
   ],
   "source": [
    "# Reshape images data into a (number of samples, 28x28) matrix\n",
    "x_train = train_images.reshape((60000, 28 * 28))\n",
    "x_test = test_images.reshape((10000, 28 * 28))\n",
    "\n",
    "# Change pixel values from (0, 255) to (0, 1)\n",
    "x_train = x_train.astype('float32') / 255\n",
    "x_test = x_test.astype('float32') / 255\n",
    "\n",
    "# One-hot encoding of expected results\n",
    "y_train = to_categorical(train_targets).astype('int')\n",
    "y_test = to_categorical(test_targets).astype('int')\n",
    "\n",
    "print('Encoded targets shape: ' + str(y_train.shape))\n",
    "\n",
    "# Show a sample of encoded input\n",
    "df = pd.DataFrame(y_train)\n",
    "df.sample(n=10)"
   ]
  },
  {
   "cell_type": "code",
   "execution_count": 6,
   "metadata": {
    "scrolled": true
   },
   "outputs": [
    {
     "name": "stdout",
     "output_type": "stream",
     "text": [
      "_________________________________________________________________\n",
      "Layer (type)                 Output Shape              Param #   \n",
      "=================================================================\n",
      "dense_1 (Dense)              (None, 512)               401920    \n",
      "_________________________________________________________________\n",
      "dense_2 (Dense)              (None, 256)               131328    \n",
      "_________________________________________________________________\n",
      "dropout_1 (Dropout)          (None, 256)               0         \n",
      "_________________________________________________________________\n",
      "dense_3 (Dense)              (None, 10)                2570      \n",
      "=================================================================\n",
      "Total params: 535,818\n",
      "Trainable params: 535,818\n",
      "Non-trainable params: 0\n",
      "_________________________________________________________________\n"
     ]
    }
   ],
   "source": [
    "# Create a (784, 512, 256, 10) model\n",
    "model = Sequential()\n",
    "# This is the first layer?\n",
    "model.add(Dense(512, activation='relu', input_shape=(28 * 28,)))\n",
    "model.add(Dense(256, activation = 'relu'))\n",
    "model.add(Dropout(0.1))\n",
    "model.add(Dense(10, activation = 'softmax')) \n",
    "# If the last line above doesn't work, try the following\n",
    "#model.add(Dense(10))\n",
    "#model.add(Activation(tf.nn.softmax))\n",
    "\n",
    "# Describe the model\n",
    "model.summary()"
   ]
  },
  {
   "cell_type": "code",
   "execution_count": 7,
   "metadata": {
    "scrolled": true
   },
   "outputs": [],
   "source": [
    "model.compile(loss = categorical_crossentropy, \n",
    "              optimizer = 'adam',\n",
    "              metrics = [metrics.categorical_accuracy])\n",
    "\n",
    "# If the compilation doesn't work, try \n",
    "# import keras.backend as K\n",
    "# def get_categorical_accuracy_keras(y_true, y_pred):\n",
    "#    return K.mean(K.equal(K.argmax(y_true, axis=1), K.argmax(y_pred, axis=1)))\n",
    "\n",
    "# model.compile(loss=categorical_crossentropy, \n",
    "#               optimizer='adam', \n",
    "#               metrics=[get_categorical_accuracy_keras])"
   ]
  },
  {
   "cell_type": "code",
   "execution_count": 8,
   "metadata": {},
   "outputs": [
    {
     "name": "stdout",
     "output_type": "stream",
     "text": [
      "Train on 54000 samples, validate on 6000 samples\n",
      "Epoch 1/20\n",
      "54000/54000 [==============================] - 3s 52us/step - loss: 0.4029 - categorical_accuracy: 0.8877 - val_loss: 0.1369 - val_categorical_accuracy: 0.9612\n",
      "Epoch 2/20\n",
      "54000/54000 [==============================] - 2s 45us/step - loss: 0.1427 - categorical_accuracy: 0.9583 - val_loss: 0.0996 - val_categorical_accuracy: 0.9715\n",
      "Epoch 3/20\n",
      "54000/54000 [==============================] - 3s 46us/step - loss: 0.0923 - categorical_accuracy: 0.9724 - val_loss: 0.0805 - val_categorical_accuracy: 0.9767\n",
      "Epoch 4/20\n",
      "54000/54000 [==============================] - 3s 51us/step - loss: 0.0660 - categorical_accuracy: 0.9804 - val_loss: 0.0759 - val_categorical_accuracy: 0.9782\n",
      "Epoch 5/20\n",
      "54000/54000 [==============================] - 3s 49us/step - loss: 0.0494 - categorical_accuracy: 0.9851 - val_loss: 0.0751 - val_categorical_accuracy: 0.9793\n",
      "Epoch 6/20\n",
      "54000/54000 [==============================] - 2s 44us/step - loss: 0.0373 - categorical_accuracy: 0.9889 - val_loss: 0.0706 - val_categorical_accuracy: 0.9813\n",
      "Epoch 7/20\n",
      "54000/54000 [==============================] - 2s 46us/step - loss: 0.0277 - categorical_accuracy: 0.9919 - val_loss: 0.0708 - val_categorical_accuracy: 0.9807\n",
      "Epoch 8/20\n",
      "54000/54000 [==============================] - 3s 47us/step - loss: 0.0209 - categorical_accuracy: 0.9940 - val_loss: 0.0670 - val_categorical_accuracy: 0.9825\n",
      "Epoch 9/20\n",
      "54000/54000 [==============================] - 3s 48us/step - loss: 0.0155 - categorical_accuracy: 0.9958 - val_loss: 0.0657 - val_categorical_accuracy: 0.9818\n",
      "Epoch 10/20\n",
      "54000/54000 [==============================] - 3s 48us/step - loss: 0.0142 - categorical_accuracy: 0.9959 - val_loss: 0.0782 - val_categorical_accuracy: 0.9795\n",
      "Epoch 11/20\n",
      "54000/54000 [==============================] - 2s 44us/step - loss: 0.0093 - categorical_accuracy: 0.9978 - val_loss: 0.0839 - val_categorical_accuracy: 0.9792\n",
      "Epoch 12/20\n",
      "54000/54000 [==============================] - 3s 47us/step - loss: 0.0083 - categorical_accuracy: 0.9978 - val_loss: 0.0737 - val_categorical_accuracy: 0.9823\n",
      "Epoch 13/20\n",
      "54000/54000 [==============================] - 3s 53us/step - loss: 0.0060 - categorical_accuracy: 0.9988 - val_loss: 0.0708 - val_categorical_accuracy: 0.9835\n",
      "Epoch 14/20\n",
      "54000/54000 [==============================] - 3s 47us/step - loss: 0.0063 - categorical_accuracy: 0.9984 - val_loss: 0.0771 - val_categorical_accuracy: 0.9822\n",
      "Epoch 15/20\n",
      "54000/54000 [==============================] - 2s 46us/step - loss: 0.0042 - categorical_accuracy: 0.9993 - val_loss: 0.0867 - val_categorical_accuracy: 0.9803\n",
      "Epoch 16/20\n",
      "54000/54000 [==============================] - 3s 49us/step - loss: 0.0033 - categorical_accuracy: 0.9992 - val_loss: 0.0776 - val_categorical_accuracy: 0.9808\n",
      "Epoch 17/20\n",
      "54000/54000 [==============================] - 3s 63us/step - loss: 0.0024 - categorical_accuracy: 0.9996 - val_loss: 0.0771 - val_categorical_accuracy: 0.9842\n",
      "Epoch 18/20\n",
      "54000/54000 [==============================] - 3s 52us/step - loss: 0.0032 - categorical_accuracy: 0.9992 - val_loss: 0.0803 - val_categorical_accuracy: 0.9822\n",
      "Epoch 19/20\n",
      "54000/54000 [==============================] - 3s 51us/step - loss: 0.0026 - categorical_accuracy: 0.9995 - val_loss: 0.0880 - val_categorical_accuracy: 0.9802\n",
      "Epoch 20/20\n",
      "54000/54000 [==============================] - 3s 53us/step - loss: 0.0061 - categorical_accuracy: 0.9983 - val_loss: 0.0919 - val_categorical_accuracy: 0.9793\n"
     ]
    }
   ],
   "source": [
    "history = model.fit(x_train,\n",
    "                    y_train,\n",
    "                    validation_split = 0.1,\n",
    "                    epochs = 20, \n",
    "                    batch_size = 512)"
   ]
  },
  {
   "cell_type": "code",
   "execution_count": 9,
   "metadata": {},
   "outputs": [
    {
     "data": {
      "text/plain": [
       "{'val_loss': [0.13694543886184693,\n",
       "  0.09958662883440654,\n",
       "  0.08045677069822947,\n",
       "  0.07592158043384552,\n",
       "  0.0750832523504893,\n",
       "  0.07056190466880799,\n",
       "  0.0708245416879654,\n",
       "  0.06699621971448262,\n",
       "  0.06573503704865774,\n",
       "  0.07822337138652802,\n",
       "  0.0839231854279836,\n",
       "  0.0736524084409078,\n",
       "  0.07080244692166646,\n",
       "  0.07714957722028097,\n",
       "  0.08672993151346843,\n",
       "  0.07759407353401183,\n",
       "  0.07705016136169433,\n",
       "  0.0802519892056783,\n",
       "  0.08799857521057129,\n",
       "  0.09189336554209392],\n",
       " 'val_categorical_accuracy': [0.9611666673024496,\n",
       "  0.9714999996821085,\n",
       "  0.9766666653951009,\n",
       "  0.9781666671435039,\n",
       "  0.9793333320617675,\n",
       "  0.9813333338101705,\n",
       "  0.9806666673024496,\n",
       "  0.9825000004768372,\n",
       "  0.9818333347638448,\n",
       "  0.9794999996821085,\n",
       "  0.9791666671435039,\n",
       "  0.9823333328564962,\n",
       "  0.9835000004768372,\n",
       "  0.9821666671435039,\n",
       "  0.9803333338101705,\n",
       "  0.9808333320617676,\n",
       "  0.9841666661898295,\n",
       "  0.9821666663487753,\n",
       "  0.9801666661898295,\n",
       "  0.9793333319028219],\n",
       " 'loss': [0.402914542304145,\n",
       "  0.14271147625534622,\n",
       "  0.0923416911120768,\n",
       "  0.06597736908881753,\n",
       "  0.04943185720178816,\n",
       "  0.03734897228413158,\n",
       "  0.027718168489083095,\n",
       "  0.020932834777015227,\n",
       "  0.015487854905978397,\n",
       "  0.014201328220190825,\n",
       "  0.009348986429472765,\n",
       "  0.008291156382334453,\n",
       "  0.0059867155303557715,\n",
       "  0.006252828871900285,\n",
       "  0.004169200103523002,\n",
       "  0.003320927328913024,\n",
       "  0.002401437608939078,\n",
       "  0.0032157226649837363,\n",
       "  0.0026060551496705523,\n",
       "  0.006126002934243944],\n",
       " 'categorical_accuracy': [0.8876851851675246,\n",
       "  0.9583333334216365,\n",
       "  0.9723703704939948,\n",
       "  0.9803703704410129,\n",
       "  0.9851296297179328,\n",
       "  0.98890740747805,\n",
       "  0.9918518518695125,\n",
       "  0.9939629629806236,\n",
       "  0.9957962963139569,\n",
       "  0.995907407425068,\n",
       "  0.9977592592592592,\n",
       "  0.9978148148324755,\n",
       "  0.9988148148677968,\n",
       "  0.9983888888888889,\n",
       "  0.9993148148148148,\n",
       "  0.9992222222222222,\n",
       "  0.9996481481481482,\n",
       "  0.9992037037037037,\n",
       "  0.9995,\n",
       "  0.9982962963139569]}"
      ]
     },
     "execution_count": 9,
     "metadata": {},
     "output_type": "execute_result"
    }
   ],
   "source": [
    "history.history"
   ]
  },
  {
   "cell_type": "code",
   "execution_count": 10,
   "metadata": {},
   "outputs": [
    {
     "data": {
      "image/png": "[encoded data removed]",
      "text/plain": [
       "<Figure size 432x288 with 1 Axes>"
      ]
     },
     "metadata": {
      "needs_background": "light"
     },
     "output_type": "display_data"
    }
   ],
   "source": [
    "# Plot Loss\n",
    "plt.plot(history.history['loss'])\n",
    "plt.title('model training loss')\n",
    "plt.ylabel('loss')\n",
    "plt.xlabel('epoch')\n",
    "plt.show()"
   ]
  },
  {
   "cell_type": "code",
   "execution_count": 11,
   "metadata": {},
   "outputs": [
    {
     "data": {
      "image/png": "[encoded data removed]",
      "text/plain": [
       "<Figure size 432x288 with 1 Axes>"
      ]
     },
     "metadata": {
      "needs_background": "light"
     },
     "output_type": "display_data"
    }
   ],
   "source": [
    "# Plot Loss\n",
    "plt.plot(history.history['categorical_accuracy'])\n",
    "plt.title('model training accuracy')\n",
    "plt.ylabel('accuracy')\n",
    "plt.xlabel('epoch')\n",
    "plt.show()"
   ]
  },
  {
   "cell_type": "code",
   "execution_count": 12,
   "metadata": {},
   "outputs": [],
   "source": [
    "y_pred = model.predict(x_test)"
   ]
  },
  {
   "cell_type": "code",
   "execution_count": 13,
   "metadata": {},
   "outputs": [],
   "source": [
    "predictions = np.argmax(y_pred, axis=1)\n",
    "y_pred = to_categorical(predictions)"
   ]
  },
  {
   "cell_type": "code",
   "execution_count": 14,
   "metadata": {},
   "outputs": [
    {
     "name": "stdout",
     "output_type": "stream",
     "text": [
      "Accuracy = 0.982\n"
     ]
    }
   ],
   "source": [
    "print('Accuracy = %.3f' % accuracy_score(y_pred, y_test))"
   ]
  },
  {
   "cell_type": "code",
   "execution_count": 15,
   "metadata": {},
   "outputs": [
    {
     "name": "stdout",
     "output_type": "stream",
     "text": [
      "Requirement already satisfied: scipy in /anaconda3/lib/python3.6/site-packages (1.1.0)\n",
      "Collecting yellowbrick\n",
      "\u001b[?25l  Downloading https://files.pythonhosted.org/packages/f0/b3/fffa077157c38e729eb033fdd0ad57fbe92db1aac303c69b283ce10deb9b/yellowbrick-0.9-py2.py3-none-any.whl (281kB)\n",
      "\u001b[K    100% |████████████████████████████████| 286kB 7.3MB/s ta 0:00:011\n",
      "\u001b[?25hRequirement already satisfied: scipy>=1.0.0 in /anaconda3/lib/python3.6/site-packages (from yellowbrick) (1.1.0)\n",
      "Requirement already satisfied: numpy>=1.13.0 in /anaconda3/lib/python3.6/site-packages (from yellowbrick) (1.15.4)\n",
      "Requirement already satisfied: cycler>=0.10.0 in /anaconda3/lib/python3.6/site-packages (from yellowbrick) (0.10.0)\n",
      "Requirement already satisfied: scikit-learn>=0.20 in /anaconda3/lib/python3.6/site-packages (from yellowbrick) (0.20.1)\n",
      "Collecting matplotlib<3.0,>=1.5.1 (from yellowbrick)\n",
      "\u001b[?25l  Downloading https://files.pythonhosted.org/packages/25/0e/a5f748160edcbc0f0bd3593e9802469397934da0b99aa2c7a8c3ae915d77/matplotlib-2.2.3-cp36-cp36m-macosx_10_6_intel.macosx_10_9_intel.macosx_10_9_x86_64.macosx_10_10_intel.macosx_10_10_x86_64.whl (13.8MB)\n",
      "\u001b[K    100% |████████████████████████████████| 13.8MB 2.3MB/s eta 0:00:01\n",
      "\u001b[?25hRequirement already satisfied: six in /anaconda3/lib/python3.6/site-packages (from cycler>=0.10.0->yellowbrick) (1.11.0)\n",
      "Requirement already satisfied: python-dateutil>=2.1 in /anaconda3/lib/python3.6/site-packages (from matplotlib<3.0,>=1.5.1->yellowbrick) (2.7.5)\n",
      "Requirement already satisfied: kiwisolver>=1.0.1 in /anaconda3/lib/python3.6/site-packages (from matplotlib<3.0,>=1.5.1->yellowbrick) (1.0.1)\n",
      "Requirement already satisfied: pytz in /anaconda3/lib/python3.6/site-packages (from matplotlib<3.0,>=1.5.1->yellowbrick) (2018.7)\n",
      "Requirement already satisfied: pyparsing!=2.0.4,!=2.1.2,!=2.1.6,>=2.0.1 in /anaconda3/lib/python3.6/site-packages (from matplotlib<3.0,>=1.5.1->yellowbrick) (2.3.0)\n",
      "Requirement already satisfied: setuptools in /anaconda3/lib/python3.6/site-packages (from kiwisolver>=1.0.1->matplotlib<3.0,>=1.5.1->yellowbrick) (40.6.2)\n",
      "Installing collected packages: matplotlib, yellowbrick\n",
      "  Found existing installation: matplotlib 3.0.2\n",
      "    Uninstalling matplotlib-3.0.2:\n",
      "      Successfully uninstalled matplotlib-3.0.2\n",
      "Successfully installed matplotlib-3.0.1 yellowbrick-0.9\n"
     ]
    }
   ],
   "source": [
    "!pip install scipy\n",
    "!pip install yellowbrick"
   ]
  },
  {
   "cell_type": "code",
   "execution_count": null,
   "metadata": {},
   "outputs": [],
   "source": [
    "!pip install "
   ]
  }
 ],
 "metadata": {
  "kernelspec": {
   "display_name": "Python 3",
   "language": "python",
   "name": "python3"
  },
  "language_info": {
   "codemirror_mode": {
    "name": "ipython",
    "version": 3
   },
   "file_extension": ".py",
   "mimetype": "text/x-python",
   "name": "python",
   "nbconvert_exporter": "python",
   "pygments_lexer": "ipython3",
   "version": "3.6.6"
  }
 },
 "nbformat": 4,
 "nbformat_minor": 2
}
